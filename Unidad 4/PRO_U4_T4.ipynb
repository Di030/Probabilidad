{
  "nbformat": 4,
  "nbformat_minor": 0,
  "metadata": {
    "colab": {
      "provenance": []
    },
    "kernelspec": {
      "name": "python3",
      "display_name": "Python 3"
    },
    "language_info": {
      "name": "python"
    }
  },
  "cells": [
    {
      "cell_type": "code",
      "execution_count": 2,
      "metadata": {
        "id": "jy1XO_wOMztY"
      },
      "outputs": [],
      "source": [
        "from scipy.stats import poisson\n",
        "from scipy.stats import binom"
      ]
    },
    {
      "cell_type": "markdown",
      "source": [
        "En este problema se usa la distribución de poisson devido a que no se calcula la probabilidad de que un evento sea exitoso o no, se calcula la cantidad de personas que ingresan a un hospital"
      ],
      "metadata": {
        "id": "9qxPGVKgJmET"
      }
    },
    {
      "cell_type": "code",
      "source": [
        "per_ingresan=0\n",
        "media_poisson=5\n",
        "x1=2\n",
        "x2=10\n",
        "prob_x1=poisson.pmf(x1,media_poisson)\n",
        "prob_x2=1-poisson.cdf(x2,media_poisson)\n",
        "print(\"Probabilidad de que sean dos ingresos: \", prob_x1)\n",
        "print(\"probabilidad de que sean mas de 10 ingresos: \", prob_x2)\n",
        "if(prob_x2>0.5):\n",
        "    mayor_10=\"Si\"\n",
        "\n",
        "else:\n",
        "    mayor_10=\"No\"\n",
        "print(\"Es posible que san mayor que 10?, \", mayor_10)\n",
        "\n"
      ],
      "metadata": {
        "colab": {
          "base_uri": "https://localhost:8080/"
        },
        "id": "vml8oOkHJ2-j",
        "outputId": "66644110-4c7c-49ed-a561-ec9be7bad9ca"
      },
      "execution_count": 9,
      "outputs": [
        {
          "output_type": "stream",
          "name": "stdout",
          "text": [
            "Probabilidad de que sean dos ingresos:  0.08422433748856832\n",
            "probabilidad de que sean mas de 10 ingresos:  0.013695268598382881\n",
            "Es posible que san mayor que 10?,  No\n"
          ]
        }
      ]
    },
    {
      "cell_type": "markdown",
      "source": [
        "En este se usa la distribucion binominal devido a que se busca calcular si un evento es exitoso o no en cierto numero de intentos"
      ],
      "metadata": {
        "id": "IzGXN2OPO8vM"
      }
    },
    {
      "cell_type": "code",
      "source": [
        "prob_no_satisface=0.001\n",
        "cant_motores=1000\n",
        "prob_0=0\n",
        "prob_3=3\n",
        "prob_4=4\n",
        "prob1=binom.pmf(prob_0,cant_motores,prob_no_satisface)\n",
        "prob2=binom.pmf(prob_3,cant_motores,prob_no_satisface)\n",
        "prob3=binom.pmf(prob_4,cant_motores,prob_no_satisface)\n",
        "print(\"Probabilidad de que no haya ningun motor defecutuoso: \",prob1)\n",
        "print(\"Probabilidad de que haya 3 motores defectuosos: \",prob2)\n",
        "print(\"Probabilidad de que haya 4 motores defectuosos: \",prob3)"
      ],
      "metadata": {
        "colab": {
          "base_uri": "https://localhost:8080/"
        },
        "id": "IxrXxY7FKfDE",
        "outputId": "cdba10c9-c648-4c1d-ecca-a431c52a6f3c"
      },
      "execution_count": 14,
      "outputs": [
        {
          "output_type": "stream",
          "name": "stdout",
          "text": [
            "Probabilidad de que no haya ningun motor defecutuoso:  0.3676954247709639\n",
            "Probabilidad de que haya 3 motores defectuosos:  0.061282509389840666\n",
            "Probabilidad de que haya 4 motores defectuosos:  0.015289955420838651\n"
          ]
        }
      ]
    }
  ]
}