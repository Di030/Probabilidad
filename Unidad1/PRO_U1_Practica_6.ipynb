{
  "cells": [
    {
      "cell_type": "markdown",
      "source": [
        "#Practica 6\n",
        "##Alumno: Reyes Gutiérrez Diego\n",
        "##Facilitador:    José Gabriel Rodríguez Rivas"
      ],
      "metadata": {
        "id": "HBVOiW6hpz0Z"
      }
    },
    {
      "cell_type": "code",
      "execution_count": 22,
      "metadata": {
        "id": "r2L7gFeOzx8A"
      },
      "outputs": [],
      "source": [
        "import random\n",
        "import matplotlib.pyplot as plt\n",
        "from statistics import*\n",
        "import pandas as pd\n",
        "import math\n",
        "from google.colab import drive\n",
        "import seaborn as sns\n"
      ]
    },
    {
      "cell_type": "code",
      "execution_count": 7,
      "metadata": {
        "id": "5XVh3mpb11b5",
        "colab": {
          "base_uri": "https://localhost:8080/"
        },
        "outputId": "81229628-2404-4aff-e2ec-d514bcf43fec"
      },
      "outputs": [
        {
          "output_type": "stream",
          "name": "stdout",
          "text": [
            "        ORIGEN  SECTOR    SEXO ENTIDAD_NAC  TIPO_PACIENTE FECHA_INGRESO  \\\n",
            "0            1       4  Hombre   Zacatecas  Hospitalizado    27/03/2020   \n",
            "1            1      12  Hombre   Zacatecas  Hospitalizado    06/04/2020   \n",
            "2            1      12   Mujer   Zacatecas  Hospitalizado    15/04/2020   \n",
            "3            2      12   Mujer   Zacatecas  Hospitalizado    08/05/2020   \n",
            "4            2      12   Mujer   Zacatecas  Hospitalizado    08/05/2020   \n",
            "...        ...     ...     ...         ...            ...           ...   \n",
            "489806       2       9   Mujer  Guanajuato    Ambulatorio    25/05/2020   \n",
            "489807       2       4   Mujer  Guanajuato  Hospitalizado    31/05/2020   \n",
            "489808       2      12  Hombre  Guanajuato    Ambulatorio    01/06/2020   \n",
            "489809       2      12   Mujer  Guanajuato    Ambulatorio    01/06/2020   \n",
            "489810       1       6  Hombre  Guanajuato  Hospitalizado    31/05/2020   \n",
            "\n",
            "       FECHA_SINTOMAS   FECHA_DEF   INTUBADO NEUMONIA  ...  EPOC ASMA  \\\n",
            "0          27/03/2020  9999-99-99         No       No  ...    No   No   \n",
            "1          02/04/2020  9999-99-99         No       Si  ...    No   No   \n",
            "2          12/04/2020  9999-99-99         No       Si  ...    No   No   \n",
            "3          08/05/2020  9999-99-99         Si       No  ...    No   No   \n",
            "4          08/05/2020  9999-99-99         Si       No  ...    No   No   \n",
            "...               ...         ...        ...      ...  ...   ...  ...   \n",
            "489806     24/05/2020  9999-99-99  No aplica       Si  ...    No   No   \n",
            "489807     26/05/2020  07/07/2020         No       No  ...    Si   No   \n",
            "489808     29/05/2020  9999-99-99  No aplica       No  ...    No   No   \n",
            "489809     29/05/2020  9999-99-99  No aplica       No  ...    No   No   \n",
            "489810     30/05/2020  9999-99-99         No       No  ...    No   No   \n",
            "\n",
            "       INMUSUPR HIPERTENSION CARDIOVASCULAR OBESIDAD RENAL_CRONICA TABAQUISMO  \\\n",
            "0            No           No             No       No            No         No   \n",
            "1            No           No             No       No            No         No   \n",
            "2            Si           No             No       No            No         No   \n",
            "3            No           No             No       No            No         No   \n",
            "4            No           No             No       No            No         No   \n",
            "...         ...          ...            ...      ...           ...        ...   \n",
            "489806       No           No             Si       No            No         No   \n",
            "489807       No           No             No       No            No         No   \n",
            "489808       No           No             No       No            No         No   \n",
            "489809       No           No             No       No            No         No   \n",
            "489810       No           Si             No       No             N        NaN   \n",
            "\n",
            "       RESULTADO        UCI  \n",
            "0       Negativo         No  \n",
            "1       Negativo         No  \n",
            "2       Negativo         No  \n",
            "3       Negativo         Si  \n",
            "4       Negativo         Si  \n",
            "...          ...        ...  \n",
            "489806         3  No aplica  \n",
            "489807  Positivo         No  \n",
            "489808  Positivo  No aplica  \n",
            "489809  Negativo  No aplica  \n",
            "489810       NaN        NaN  \n",
            "\n",
            "[489811 rows x 23 columns]\n"
          ]
        }
      ],
      "source": [
        "covid=pd.read_csv('/content/20-06-30-COVID19MEXICO - codificado.csv')\n",
        "print(covid)"
      ]
    },
    {
      "cell_type": "code",
      "execution_count": 8,
      "metadata": {
        "id": "pvZwm92C11Yl",
        "colab": {
          "base_uri": "https://localhost:8080/"
        },
        "outputId": "f13154e0-9c4c-4e19-8853-6295a76456a1"
      },
      "outputs": [
        {
          "output_type": "execute_result",
          "data": {
            "text/plain": [
              "0"
            ]
          },
          "metadata": {},
          "execution_count": 8
        }
      ],
      "source": [
        "covid.EDAD.min()\n"
      ]
    },
    {
      "cell_type": "code",
      "execution_count": 9,
      "metadata": {
        "id": "SWPINmKK11WB",
        "colab": {
          "base_uri": "https://localhost:8080/"
        },
        "outputId": "537ce65a-6f10-4313-fb02-a15de5779aa7"
      },
      "outputs": [
        {
          "output_type": "execute_result",
          "data": {
            "text/plain": [
              "83"
            ]
          },
          "metadata": {},
          "execution_count": 9
        }
      ],
      "source": [
        "covid.EDAD.max()\n"
      ]
    },
    {
      "cell_type": "code",
      "execution_count": 10,
      "metadata": {
        "id": "apE1Mxz211TQ",
        "colab": {
          "base_uri": "https://localhost:8080/"
        },
        "outputId": "75734c2d-2e3c-4e0d-cf22-224e38936144"
      },
      "outputs": [
        {
          "output_type": "execute_result",
          "data": {
            "text/plain": [
              "42.23732623399638"
            ]
          },
          "metadata": {},
          "execution_count": 10
        }
      ],
      "source": [
        "covid.EDAD.mean()"
      ]
    },
    {
      "cell_type": "code",
      "execution_count": 11,
      "metadata": {
        "id": "KCi7LNY711Q2",
        "colab": {
          "base_uri": "https://localhost:8080/",
          "height": 300
        },
        "outputId": "65d559d7-c9af-4eb4-8157-d3622997a283"
      },
      "outputs": [
        {
          "output_type": "execute_result",
          "data": {
            "text/plain": [
              "              ORIGEN         SECTOR           EDAD\n",
              "count  489811.000000  489811.000000  489811.000000\n",
              "mean        1.638318       9.732444      42.237326\n",
              "std         0.480488       8.256902      16.029957\n",
              "min         1.000000       1.000000       0.000000\n",
              "25%         1.000000       4.000000      31.000000\n",
              "50%         2.000000      12.000000      41.000000\n",
              "75%         2.000000      12.000000      53.000000\n",
              "max         2.000000      99.000000      83.000000"
            ],
            "text/html": [
              "\n",
              "  <div id=\"df-b27ef40e-4c6c-4f6a-a66e-21852eb1c6c4\" class=\"colab-df-container\">\n",
              "    <div>\n",
              "<style scoped>\n",
              "    .dataframe tbody tr th:only-of-type {\n",
              "        vertical-align: middle;\n",
              "    }\n",
              "\n",
              "    .dataframe tbody tr th {\n",
              "        vertical-align: top;\n",
              "    }\n",
              "\n",
              "    .dataframe thead th {\n",
              "        text-align: right;\n",
              "    }\n",
              "</style>\n",
              "<table border=\"1\" class=\"dataframe\">\n",
              "  <thead>\n",
              "    <tr style=\"text-align: right;\">\n",
              "      <th></th>\n",
              "      <th>ORIGEN</th>\n",
              "      <th>SECTOR</th>\n",
              "      <th>EDAD</th>\n",
              "    </tr>\n",
              "  </thead>\n",
              "  <tbody>\n",
              "    <tr>\n",
              "      <th>count</th>\n",
              "      <td>489811.000000</td>\n",
              "      <td>489811.000000</td>\n",
              "      <td>489811.000000</td>\n",
              "    </tr>\n",
              "    <tr>\n",
              "      <th>mean</th>\n",
              "      <td>1.638318</td>\n",
              "      <td>9.732444</td>\n",
              "      <td>42.237326</td>\n",
              "    </tr>\n",
              "    <tr>\n",
              "      <th>std</th>\n",
              "      <td>0.480488</td>\n",
              "      <td>8.256902</td>\n",
              "      <td>16.029957</td>\n",
              "    </tr>\n",
              "    <tr>\n",
              "      <th>min</th>\n",
              "      <td>1.000000</td>\n",
              "      <td>1.000000</td>\n",
              "      <td>0.000000</td>\n",
              "    </tr>\n",
              "    <tr>\n",
              "      <th>25%</th>\n",
              "      <td>1.000000</td>\n",
              "      <td>4.000000</td>\n",
              "      <td>31.000000</td>\n",
              "    </tr>\n",
              "    <tr>\n",
              "      <th>50%</th>\n",
              "      <td>2.000000</td>\n",
              "      <td>12.000000</td>\n",
              "      <td>41.000000</td>\n",
              "    </tr>\n",
              "    <tr>\n",
              "      <th>75%</th>\n",
              "      <td>2.000000</td>\n",
              "      <td>12.000000</td>\n",
              "      <td>53.000000</td>\n",
              "    </tr>\n",
              "    <tr>\n",
              "      <th>max</th>\n",
              "      <td>2.000000</td>\n",
              "      <td>99.000000</td>\n",
              "      <td>83.000000</td>\n",
              "    </tr>\n",
              "  </tbody>\n",
              "</table>\n",
              "</div>\n",
              "    <div class=\"colab-df-buttons\">\n",
              "\n",
              "  <div class=\"colab-df-container\">\n",
              "    <button class=\"colab-df-convert\" onclick=\"convertToInteractive('df-b27ef40e-4c6c-4f6a-a66e-21852eb1c6c4')\"\n",
              "            title=\"Convert this dataframe to an interactive table.\"\n",
              "            style=\"display:none;\">\n",
              "\n",
              "  <svg xmlns=\"http://www.w3.org/2000/svg\" height=\"24px\" viewBox=\"0 -960 960 960\">\n",
              "    <path d=\"M120-120v-720h720v720H120Zm60-500h600v-160H180v160Zm220 220h160v-160H400v160Zm0 220h160v-160H400v160ZM180-400h160v-160H180v160Zm440 0h160v-160H620v160ZM180-180h160v-160H180v160Zm440 0h160v-160H620v160Z\"/>\n",
              "  </svg>\n",
              "    </button>\n",
              "\n",
              "  <style>\n",
              "    .colab-df-container {\n",
              "      display:flex;\n",
              "      gap: 12px;\n",
              "    }\n",
              "\n",
              "    .colab-df-convert {\n",
              "      background-color: #E8F0FE;\n",
              "      border: none;\n",
              "      border-radius: 50%;\n",
              "      cursor: pointer;\n",
              "      display: none;\n",
              "      fill: #1967D2;\n",
              "      height: 32px;\n",
              "      padding: 0 0 0 0;\n",
              "      width: 32px;\n",
              "    }\n",
              "\n",
              "    .colab-df-convert:hover {\n",
              "      background-color: #E2EBFA;\n",
              "      box-shadow: 0px 1px 2px rgba(60, 64, 67, 0.3), 0px 1px 3px 1px rgba(60, 64, 67, 0.15);\n",
              "      fill: #174EA6;\n",
              "    }\n",
              "\n",
              "    .colab-df-buttons div {\n",
              "      margin-bottom: 4px;\n",
              "    }\n",
              "\n",
              "    [theme=dark] .colab-df-convert {\n",
              "      background-color: #3B4455;\n",
              "      fill: #D2E3FC;\n",
              "    }\n",
              "\n",
              "    [theme=dark] .colab-df-convert:hover {\n",
              "      background-color: #434B5C;\n",
              "      box-shadow: 0px 1px 3px 1px rgba(0, 0, 0, 0.15);\n",
              "      filter: drop-shadow(0px 1px 2px rgba(0, 0, 0, 0.3));\n",
              "      fill: #FFFFFF;\n",
              "    }\n",
              "  </style>\n",
              "\n",
              "    <script>\n",
              "      const buttonEl =\n",
              "        document.querySelector('#df-b27ef40e-4c6c-4f6a-a66e-21852eb1c6c4 button.colab-df-convert');\n",
              "      buttonEl.style.display =\n",
              "        google.colab.kernel.accessAllowed ? 'block' : 'none';\n",
              "\n",
              "      async function convertToInteractive(key) {\n",
              "        const element = document.querySelector('#df-b27ef40e-4c6c-4f6a-a66e-21852eb1c6c4');\n",
              "        const dataTable =\n",
              "          await google.colab.kernel.invokeFunction('convertToInteractive',\n",
              "                                                    [key], {});\n",
              "        if (!dataTable) return;\n",
              "\n",
              "        const docLinkHtml = 'Like what you see? Visit the ' +\n",
              "          '<a target=\"_blank\" href=https://colab.research.google.com/notebooks/data_table.ipynb>data table notebook</a>'\n",
              "          + ' to learn more about interactive tables.';\n",
              "        element.innerHTML = '';\n",
              "        dataTable['output_type'] = 'display_data';\n",
              "        await google.colab.output.renderOutput(dataTable, element);\n",
              "        const docLink = document.createElement('div');\n",
              "        docLink.innerHTML = docLinkHtml;\n",
              "        element.appendChild(docLink);\n",
              "      }\n",
              "    </script>\n",
              "  </div>\n",
              "\n",
              "\n",
              "<div id=\"df-2f133aa7-1e12-459d-9654-1db3e5912a70\">\n",
              "  <button class=\"colab-df-quickchart\" onclick=\"quickchart('df-2f133aa7-1e12-459d-9654-1db3e5912a70')\"\n",
              "            title=\"Suggest charts\"\n",
              "            style=\"display:none;\">\n",
              "\n",
              "<svg xmlns=\"http://www.w3.org/2000/svg\" height=\"24px\"viewBox=\"0 0 24 24\"\n",
              "     width=\"24px\">\n",
              "    <g>\n",
              "        <path d=\"M19 3H5c-1.1 0-2 .9-2 2v14c0 1.1.9 2 2 2h14c1.1 0 2-.9 2-2V5c0-1.1-.9-2-2-2zM9 17H7v-7h2v7zm4 0h-2V7h2v10zm4 0h-2v-4h2v4z\"/>\n",
              "    </g>\n",
              "</svg>\n",
              "  </button>\n",
              "\n",
              "<style>\n",
              "  .colab-df-quickchart {\n",
              "      --bg-color: #E8F0FE;\n",
              "      --fill-color: #1967D2;\n",
              "      --hover-bg-color: #E2EBFA;\n",
              "      --hover-fill-color: #174EA6;\n",
              "      --disabled-fill-color: #AAA;\n",
              "      --disabled-bg-color: #DDD;\n",
              "  }\n",
              "\n",
              "  [theme=dark] .colab-df-quickchart {\n",
              "      --bg-color: #3B4455;\n",
              "      --fill-color: #D2E3FC;\n",
              "      --hover-bg-color: #434B5C;\n",
              "      --hover-fill-color: #FFFFFF;\n",
              "      --disabled-bg-color: #3B4455;\n",
              "      --disabled-fill-color: #666;\n",
              "  }\n",
              "\n",
              "  .colab-df-quickchart {\n",
              "    background-color: var(--bg-color);\n",
              "    border: none;\n",
              "    border-radius: 50%;\n",
              "    cursor: pointer;\n",
              "    display: none;\n",
              "    fill: var(--fill-color);\n",
              "    height: 32px;\n",
              "    padding: 0;\n",
              "    width: 32px;\n",
              "  }\n",
              "\n",
              "  .colab-df-quickchart:hover {\n",
              "    background-color: var(--hover-bg-color);\n",
              "    box-shadow: 0 1px 2px rgba(60, 64, 67, 0.3), 0 1px 3px 1px rgba(60, 64, 67, 0.15);\n",
              "    fill: var(--button-hover-fill-color);\n",
              "  }\n",
              "\n",
              "  .colab-df-quickchart-complete:disabled,\n",
              "  .colab-df-quickchart-complete:disabled:hover {\n",
              "    background-color: var(--disabled-bg-color);\n",
              "    fill: var(--disabled-fill-color);\n",
              "    box-shadow: none;\n",
              "  }\n",
              "\n",
              "  .colab-df-spinner {\n",
              "    border: 2px solid var(--fill-color);\n",
              "    border-color: transparent;\n",
              "    border-bottom-color: var(--fill-color);\n",
              "    animation:\n",
              "      spin 1s steps(1) infinite;\n",
              "  }\n",
              "\n",
              "  @keyframes spin {\n",
              "    0% {\n",
              "      border-color: transparent;\n",
              "      border-bottom-color: var(--fill-color);\n",
              "      border-left-color: var(--fill-color);\n",
              "    }\n",
              "    20% {\n",
              "      border-color: transparent;\n",
              "      border-left-color: var(--fill-color);\n",
              "      border-top-color: var(--fill-color);\n",
              "    }\n",
              "    30% {\n",
              "      border-color: transparent;\n",
              "      border-left-color: var(--fill-color);\n",
              "      border-top-color: var(--fill-color);\n",
              "      border-right-color: var(--fill-color);\n",
              "    }\n",
              "    40% {\n",
              "      border-color: transparent;\n",
              "      border-right-color: var(--fill-color);\n",
              "      border-top-color: var(--fill-color);\n",
              "    }\n",
              "    60% {\n",
              "      border-color: transparent;\n",
              "      border-right-color: var(--fill-color);\n",
              "    }\n",
              "    80% {\n",
              "      border-color: transparent;\n",
              "      border-right-color: var(--fill-color);\n",
              "      border-bottom-color: var(--fill-color);\n",
              "    }\n",
              "    90% {\n",
              "      border-color: transparent;\n",
              "      border-bottom-color: var(--fill-color);\n",
              "    }\n",
              "  }\n",
              "</style>\n",
              "\n",
              "  <script>\n",
              "    async function quickchart(key) {\n",
              "      const quickchartButtonEl =\n",
              "        document.querySelector('#' + key + ' button');\n",
              "      quickchartButtonEl.disabled = true;  // To prevent multiple clicks.\n",
              "      quickchartButtonEl.classList.add('colab-df-spinner');\n",
              "      try {\n",
              "        const charts = await google.colab.kernel.invokeFunction(\n",
              "            'suggestCharts', [key], {});\n",
              "      } catch (error) {\n",
              "        console.error('Error during call to suggestCharts:', error);\n",
              "      }\n",
              "      quickchartButtonEl.classList.remove('colab-df-spinner');\n",
              "      quickchartButtonEl.classList.add('colab-df-quickchart-complete');\n",
              "    }\n",
              "    (() => {\n",
              "      let quickchartButtonEl =\n",
              "        document.querySelector('#df-2f133aa7-1e12-459d-9654-1db3e5912a70 button');\n",
              "      quickchartButtonEl.style.display =\n",
              "        google.colab.kernel.accessAllowed ? 'block' : 'none';\n",
              "    })();\n",
              "  </script>\n",
              "</div>\n",
              "\n",
              "    </div>\n",
              "  </div>\n"
            ],
            "application/vnd.google.colaboratory.intrinsic+json": {
              "type": "dataframe",
              "summary": "{\n  \"name\": \"covid\",\n  \"rows\": 8,\n  \"fields\": [\n    {\n      \"column\": \"ORIGEN\",\n      \"properties\": {\n        \"dtype\": \"number\",\n        \"std\": 173173.82872396338,\n        \"min\": 0.4804879839202215,\n        \"max\": 489811.0,\n        \"num_unique_values\": 5,\n        \"samples\": [\n          1.6383176368027668,\n          2.0,\n          0.4804879839202215\n        ],\n        \"semantic_type\": \"\",\n        \"description\": \"\"\n      }\n    },\n    {\n      \"column\": \"SECTOR\",\n      \"properties\": {\n        \"dtype\": \"number\",\n        \"std\": 173166.96920428865,\n        \"min\": 1.0,\n        \"max\": 489811.0,\n        \"num_unique_values\": 7,\n        \"samples\": [\n          489811.0,\n          9.73244373850322,\n          12.0\n        ],\n        \"semantic_type\": \"\",\n        \"description\": \"\"\n      }\n    },\n    {\n      \"column\": \"EDAD\",\n      \"properties\": {\n        \"dtype\": \"number\",\n        \"std\": 173160.89302539965,\n        \"min\": 0.0,\n        \"max\": 489811.0,\n        \"num_unique_values\": 8,\n        \"samples\": [\n          42.23732623399638,\n          41.0,\n          489811.0\n        ],\n        \"semantic_type\": \"\",\n        \"description\": \"\"\n      }\n    }\n  ]\n}"
            }
          },
          "metadata": {},
          "execution_count": 11
        }
      ],
      "source": [
        "covid.describe()"
      ]
    },
    {
      "cell_type": "code",
      "execution_count": 12,
      "metadata": {
        "id": "XspZ_zeN11Ou",
        "colab": {
          "base_uri": "https://localhost:8080/"
        },
        "outputId": "ae7ec66e-4101-45e6-ec11-3e80c5f542d2"
      },
      "outputs": [
        {
          "output_type": "stream",
          "name": "stdout",
          "text": [
            "<class 'pandas.core.frame.DataFrame'>\n",
            "RangeIndex: 489811 entries, 0 to 489810\n",
            "Data columns (total 23 columns):\n",
            " #   Column          Non-Null Count   Dtype \n",
            "---  ------          --------------   ----- \n",
            " 0   ORIGEN          489811 non-null  int64 \n",
            " 1   SECTOR          489811 non-null  int64 \n",
            " 2   SEXO            489811 non-null  object\n",
            " 3   ENTIDAD_NAC     489811 non-null  object\n",
            " 4   TIPO_PACIENTE   489811 non-null  object\n",
            " 5   FECHA_INGRESO   489811 non-null  object\n",
            " 6   FECHA_SINTOMAS  489811 non-null  object\n",
            " 7   FECHA_DEF       489811 non-null  object\n",
            " 8   INTUBADO        489811 non-null  object\n",
            " 9   NEUMONIA        489811 non-null  object\n",
            " 10  EDAD            489811 non-null  int64 \n",
            " 11  EMBARAZO        489811 non-null  object\n",
            " 12  DIABETES        489811 non-null  object\n",
            " 13  EPOC            489811 non-null  object\n",
            " 14  ASMA            489811 non-null  object\n",
            " 15  INMUSUPR        489811 non-null  object\n",
            " 16  HIPERTENSION    489811 non-null  object\n",
            " 17  CARDIOVASCULAR  489811 non-null  object\n",
            " 18  OBESIDAD        489811 non-null  object\n",
            " 19  RENAL_CRONICA   489811 non-null  object\n",
            " 20  TABAQUISMO      489810 non-null  object\n",
            " 21  RESULTADO       489810 non-null  object\n",
            " 22  UCI             489810 non-null  object\n",
            "dtypes: int64(3), object(20)\n",
            "memory usage: 86.0+ MB\n"
          ]
        }
      ],
      "source": [
        "covid.info()"
      ]
    },
    {
      "cell_type": "code",
      "execution_count": 18,
      "metadata": {
        "id": "tQso8ZCf11Ly",
        "colab": {
          "base_uri": "https://localhost:8080/",
          "height": 489
        },
        "outputId": "09df6541-5eee-4562-a3fc-0b8f857eeafc"
      },
      "outputs": [
        {
          "output_type": "execute_result",
          "data": {
            "text/plain": [
              "Text(0, 0.5, 'Frecuencia')"
            ]
          },
          "metadata": {},
          "execution_count": 18
        },
        {
          "output_type": "display_data",
          "data": {
            "text/plain": [
              "<Figure size 640x480 with 1 Axes>"
            ],
            "image/png": "[encoded data removed]"
          },
          "metadata": {}
        }
      ],
      "source": [
        "plt.hist(covid.EDAD, bins =24)\n",
        "plt.title(\"Histograma de Pruebas realizadas por COVID\")\n",
        "plt.xlabel(\"Edad\")\n",
        "plt.ylabel(\"Frecuencia\")"
      ]
    },
    {
      "cell_type": "code",
      "source": [
        "plt.hist(covid.TIPO_PACIENTE, bins=3)\n",
        "plt.title(\"Histograma de tipos de pacientes por COVID\")\n",
        "plt.xlabel(\"Tipo de pasiente\")\n",
        "plt.ylabel(\"Frecuencia\")"
      ],
      "metadata": {
        "colab": {
          "base_uri": "https://localhost:8080/",
          "height": 489
        },
        "id": "OTAfXszZoO7-",
        "outputId": "85ce8bdf-88ad-426d-cd7e-c3b40388e700"
      },
      "execution_count": 19,
      "outputs": [
        {
          "output_type": "execute_result",
          "data": {
            "text/plain": [
              "Text(0, 0.5, 'Frecuencia')"
            ]
          },
          "metadata": {},
          "execution_count": 19
        },
        {
          "output_type": "display_data",
          "data": {
            "text/plain": [
              "<Figure size 640x480 with 1 Axes>"
            ],
            "image/png": "[encoded data removed]"
          },
          "metadata": {}
        }
      ]
    },
    {
      "cell_type": "code",
      "source": [
        "plt.hist(covid.SEXO, bins=3)\n",
        "plt.title(\"Histograma de pruebas de COVID realizadas por genero\")\n",
        "plt.xlabel(\"Genero o Sexo\")\n",
        "plt.ylabel(\"Frecuencia\")"
      ],
      "metadata": {
        "colab": {
          "base_uri": "https://localhost:8080/",
          "height": 489
        },
        "id": "9W2JhmtRoO4h",
        "outputId": "cdf898fc-f8ba-4cd6-b0a1-c951f1c8c6cd"
      },
      "execution_count": 20,
      "outputs": [
        {
          "output_type": "execute_result",
          "data": {
            "text/plain": [
              "Text(0, 0.5, 'Frecuencia')"
            ]
          },
          "metadata": {},
          "execution_count": 20
        },
        {
          "output_type": "display_data",
          "data": {
            "text/plain": [
              "<Figure size 640x480 with 1 Axes>"
            ],
            "image/png": "[encoded data removed]"
          },
          "metadata": {}
        }
      ]
    },
    {
      "cell_type": "code",
      "source": [
        "sns.boxplot(x= 'SEXO', y='EDAD', data=covid)"
      ],
      "metadata": {
        "colab": {
          "base_uri": "https://localhost:8080/",
          "height": 466
        },
        "id": "c_q84REwoO2I",
        "outputId": "6370dbb6-c087-4c96-a1b5-461a8bd6d1a1"
      },
      "execution_count": 25,
      "outputs": [
        {
          "output_type": "execute_result",
          "data": {
            "text/plain": [
              "<Axes: xlabel='SEXO', ylabel='EDAD'>"
            ]
          },
          "metadata": {},
          "execution_count": 25
        },
        {
          "output_type": "display_data",
          "data": {
            "text/plain": [
              "<Figure size 640x480 with 1 Axes>"
            ],
            "image/png": "[encoded data removed]"
          },
          "metadata": {}
        }
      ]
    },
    {
      "cell_type": "code",
      "source": [],
      "metadata": {
        "id": "pi8mjppXoOzd"
      },
      "execution_count": null,
      "outputs": []
    },
    {
      "cell_type": "code",
      "source": [],
      "metadata": {
        "id": "GoGHMSuJoOw8"
      },
      "execution_count": null,
      "outputs": []
    },
    {
      "cell_type": "code",
      "source": [],
      "metadata": {
        "id": "rWA1A27-oOuk"
      },
      "execution_count": null,
      "outputs": []
    },
    {
      "cell_type": "code",
      "source": [],
      "metadata": {
        "id": "PXCt3FcOoOr5"
      },
      "execution_count": null,
      "outputs": []
    },
    {
      "cell_type": "code",
      "source": [],
      "metadata": {
        "id": "wT6Guq-qoOpo"
      },
      "execution_count": null,
      "outputs": []
    },
    {
      "cell_type": "code",
      "source": [],
      "metadata": {
        "id": "E15ISADyoOnH"
      },
      "execution_count": null,
      "outputs": []
    },
    {
      "cell_type": "code",
      "source": [],
      "metadata": {
        "id": "YRIKnRUpoOks"
      },
      "execution_count": null,
      "outputs": []
    },
    {
      "cell_type": "code",
      "source": [],
      "metadata": {
        "id": "lOczfQjioOiX"
      },
      "execution_count": null,
      "outputs": []
    },
    {
      "cell_type": "code",
      "source": [],
      "metadata": {
        "id": "tz_TKSn4oOfz"
      },
      "execution_count": null,
      "outputs": []
    }
  ],
  "metadata": {
    "colab": {
      "provenance": []
    },
    "kernelspec": {
      "display_name": "Python 3",
      "name": "python3"
    },
    "language_info": {
      "name": "python"
    }
  },
  "nbformat": 4,
  "nbformat_minor": 0
}