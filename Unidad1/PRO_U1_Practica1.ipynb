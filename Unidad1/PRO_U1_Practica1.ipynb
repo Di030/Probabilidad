{
 "cells": [
  {
   "cell_type": "markdown",
   "metadata": {},
   "source": [
    "# Probabilidad y estadistica\n",
    "### Facilitador: José Gabirel Rodríguez Rivas\n",
    "### Nombre del estudiante: Reyes Gutierrez Diego"
   ]
  },
  {
   "cell_type": "code",
   "execution_count": 1,
   "metadata": {
    "id": "kXV2VtkFsw6i"
   },
   "outputs": [],
   "source": [
    "from statistics import*\n"
   ]
  },
  {
   "cell_type": "code",
   "execution_count": 2,
   "metadata": {
    "colab": {
     "base_uri": "https://localhost:8080/"
    },
    "id": "3046VSkbwl4J",
    "outputId": "f97b896e-748a-4706-8c66-01adfe5dc484"
   },
   "outputs": [
    {
     "name": "stdout",
     "output_type": "stream",
     "text": [
      "[70, 70, 65, 90, 100, 95, 45, 80, 73, 20, 100, 96]\n"
     ]
    }
   ],
   "source": [
    "#Lista de calificaciones de probabilodad del grupo a\n",
    "grupoa=[70, 70, 65, 90, 100, 95, 45, 80, 73, 20, 100, 96]\n",
    "print(grupoa)"
   ]
  },
  {
   "cell_type": "code",
   "execution_count": 3,
   "metadata": {
    "colab": {
     "base_uri": "https://localhost:8080/"
    },
    "id": "CcFYstYy2b1Y",
    "outputId": "2a3133c3-3178-40c2-d293-980b8f250272"
   },
   "outputs": [
    {
     "data": {
      "text/plain": [
       "list"
      ]
     },
     "execution_count": 3,
     "metadata": {},
     "output_type": "execute_result"
    }
   ],
   "source": [
    "#La funcion \"type\" nos devuelve el tipo de dato\n",
    "type(grupoa)"
   ]
  },
  {
   "cell_type": "code",
   "execution_count": 4,
   "metadata": {
    "colab": {
     "base_uri": "https://localhost:8080/"
    },
    "id": "8Nsi_AcWxx1J",
    "outputId": "5fca8e34-6631-452b-b5dc-2532a060984d"
   },
   "outputs": [
    {
     "name": "stdout",
     "output_type": "stream",
     "text": [
      "75.33333333333333\n"
     ]
    }
   ],
   "source": [
    "#sacar la media con una formula\n",
    "prom = sum(grupoa) / len(grupoa)\n",
    "print(prom)"
   ]
  },
  {
   "cell_type": "code",
   "execution_count": 5,
   "metadata": {
    "colab": {
     "base_uri": "https://localhost:8080/"
    },
    "id": "UcUOPqY3yIUJ",
    "outputId": "375b1a97-4d92-474c-8f65-0e5aff0101a5"
   },
   "outputs": [
    {
     "name": "stdout",
     "output_type": "stream",
     "text": [
      "75.33333333333333\n"
     ]
    }
   ],
   "source": [
    "#\"mean\" se usa para sacar el promedio\n",
    "prom2= mean(grupoa)\n",
    "print(prom2)"
   ]
  },
  {
   "cell_type": "code",
   "execution_count": 6,
   "metadata": {
    "colab": {
     "base_uri": "https://localhost:8080/"
    },
    "id": "jRR59rYFym--",
    "outputId": "f2900c03-b762-48f5-affc-27387b43e152"
   },
   "outputs": [
    {
     "name": "stdout",
     "output_type": "stream",
     "text": [
      "76.5\n"
     ]
    }
   ],
   "source": [
    "prom3=median(grupoa)\n",
    "print(prom3)"
   ]
  },
  {
   "cell_type": "code",
   "execution_count": 7,
   "metadata": {
    "colab": {
     "base_uri": "https://localhost:8080/"
    },
    "id": "Tc94P2KQ4e0o",
    "outputId": "c73c2d7e-6ae3-4109-e727-09e46c49bff0"
   },
   "outputs": [
    {
     "name": "stdout",
     "output_type": "stream",
     "text": [
      "70\n"
     ]
    }
   ],
   "source": [
    "prom4= mode(grupoa)\n",
    "print(prom4)"
   ]
  },
  {
   "cell_type": "code",
   "execution_count": 10,
   "metadata": {
    "colab": {
     "base_uri": "https://localhost:8080/"
    },
    "id": "5d94yAdu4nt_",
    "outputId": "a52c670d-d3d4-4a51-f482-bcd19110fe4a"
   },
   "outputs": [
    {
     "name": "stdout",
     "output_type": "stream",
     "text": [
      "[15.1, 17.2, 14.69, 13.27, 22.15, 18.71, 19.15, 20.65, 15.1, 17.2]\n"
     ]
    }
   ],
   "source": [
    "mts=[15.10, 17.20, 14.69, 13.27, 22.15, 18.71, 19.15, 20.65, 15.10, 17.20]\n",
    "print(mts)"
   ]
  },
  {
   "cell_type": "code",
   "execution_count": 11,
   "metadata": {
    "colab": {
     "base_uri": "https://localhost:8080/"
    },
    "id": "edvayrYg6G2B",
    "outputId": "dcf87a38-35a7-419a-e46a-de9cb7fcf67c"
   },
   "outputs": [
    {
     "name": "stdout",
     "output_type": "stream",
     "text": [
      "El tiempo promedio de los corredores es:  17.322\n",
      "\n",
      "La mediana es:  17.2\n",
      "\n",
      "La moda del timpo que hacen los corredores es: 15.1\n",
      "\n",
      "La moda es:  [15.1, 17.2]\n"
     ]
    }
   ],
   "source": [
    "#La media se saca con \"mean\"\n",
    "print(\"El tiempo promedio de los corredores es: \", mean(mts))\n",
    "#la mediana se saca con \"median\"\n",
    "print(\"\\nLa mediana es: \",median(mts))\n",
    "#la moda se saca con \"mode\"\n",
    "print(\"\\nLa moda del timpo que hacen los corredores es:\", mode(mts))\n",
    "print(\"\\nLa moda es: \",multimode(mts))"
   ]
  },
  {
   "cell_type": "code",
   "execution_count": null,
   "metadata": {
    "id": "zNzqZ43y9MhH"
   },
   "outputs": [],
   "source": []
  },
  {
   "cell_type": "code",
   "execution_count": null,
   "metadata": {},
   "outputs": [],
   "source": []
  }
 ],
 "metadata": {
  "colab": {
   "provenance": []
  },
  "kernelspec": {
   "display_name": "Python 3 (ipykernel)",
   "language": "python",
   "name": "python3"
  },
  "language_info": {
   "codemirror_mode": {
    "name": "ipython",
    "version": 3
   },
   "file_extension": ".py",
   "mimetype": "text/x-python",
   "name": "python",
   "nbconvert_exporter": "python",
   "pygments_lexer": "ipython3",
   "version": "3.12.2"
  }
 },
 "nbformat": 4,
 "nbformat_minor": 4
}
