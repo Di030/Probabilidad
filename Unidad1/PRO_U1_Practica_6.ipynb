{
  "nbformat": 4,
  "nbformat_minor": 0,
  "metadata": {
    "colab": {
      "provenance": []
    },
    "kernelspec": {
      "name": "python3",
      "display_name": "Python 3"
    },
    "language_info": {
      "name": "python"
    }
  },
  "cells": [
    {
      "cell_type": "markdown",
      "source": [
        "#Practica 6\n",
        "##Alumno: Reyes Gutiérrez Diego\n",
        "##Facilitador: José Gabriel Rodríguez Rivas"
      ],
      "metadata": {
        "id": "NlzA4sCsPYn2"
      }
    },
    {
      "cell_type": "code",
      "execution_count": 56,
      "metadata": {
        "id": "aCbB5XCbPXwr"
      },
      "outputs": [],
      "source": [
        "import random\n",
        "import matplotlib.pyplot as plt\n",
        "from statistics import*\n",
        "import pandas as pd\n",
        "import math\n",
        "from google.colab import drive\n",
        "import seaborn as sns"
      ]
    },
    {
      "cell_type": "code",
      "source": [
        "autos=pd.read_csv('/content/autos2.csv')\n",
        "print(autos)"
      ],
      "metadata": {
        "colab": {
          "base_uri": "https://localhost:8080/"
        },
        "id": "TbC8SnBGPmoS",
        "outputId": "a9e46db5-9694-4541-cf06-c042af707dc3"
      },
      "execution_count": 2,
      "outputs": [
        {
          "output_type": "stream",
          "name": "stdout",
          "text": [
            "     symboling  normalized-losses         make fuel-type aspiration  \\\n",
            "0            3              122.0  alfa-romero       gas        std   \n",
            "1            3              122.0  alfa-romero       gas        std   \n",
            "2            1              122.0  alfa-romero       gas        std   \n",
            "3            2              164.0         audi       gas        std   \n",
            "4            2              164.0         audi       gas        std   \n",
            "..         ...                ...          ...       ...        ...   \n",
            "200         -1               95.0        volvo       gas        std   \n",
            "201         -1               95.0        volvo       gas      turbo   \n",
            "202         -1               95.0        volvo       gas        std   \n",
            "203         -1               95.0        volvo    diesel      turbo   \n",
            "204         -1               95.0        volvo       gas      turbo   \n",
            "\n",
            "    num-of-doors   body-style drive-wheels engine-location  wheel-base  ...  \\\n",
            "0            two  convertible          rwd           front        88.6  ...   \n",
            "1            two  convertible          rwd           front        88.6  ...   \n",
            "2            two    hatchback          rwd           front        94.5  ...   \n",
            "3           four        sedan          fwd           front        99.8  ...   \n",
            "4           four        sedan          4wd           front        99.4  ...   \n",
            "..           ...          ...          ...             ...         ...  ...   \n",
            "200         four        sedan          rwd           front       109.1  ...   \n",
            "201         four        sedan          rwd           front       109.1  ...   \n",
            "202         four        sedan          rwd           front       109.1  ...   \n",
            "203         four        sedan          rwd           front       109.1  ...   \n",
            "204         four        sedan          rwd           front       109.1  ...   \n",
            "\n",
            "     engine-size  fuel-system  bore  stroke compression-ratio horsepower  \\\n",
            "0            130         mpfi  3.47    2.68               9.0      111.0   \n",
            "1            130         mpfi  3.47    2.68               9.0      111.0   \n",
            "2            152         mpfi  2.68    3.47               9.0      154.0   \n",
            "3            109         mpfi  3.19    3.40              10.0      102.0   \n",
            "4            136         mpfi  3.19    3.40               8.0      115.0   \n",
            "..           ...          ...   ...     ...               ...        ...   \n",
            "200          141         mpfi  3.78    3.15               9.5      114.0   \n",
            "201          141         mpfi  3.78    3.15               8.7      160.0   \n",
            "202          173         mpfi  3.58    2.87               8.8      134.0   \n",
            "203          145          idi  3.01    3.40              23.0      106.0   \n",
            "204          141         mpfi  3.78    3.15               9.5      114.0   \n",
            "\n",
            "     peak-rpm city-mpg  highway-mpg    price  \n",
            "0      5000.0       21           27  13495.0  \n",
            "1      5000.0       21           27  16500.0  \n",
            "2      5000.0       19           26  16500.0  \n",
            "3      5500.0       24           30  13950.0  \n",
            "4      5500.0       18           22  17450.0  \n",
            "..        ...      ...          ...      ...  \n",
            "200    5400.0       23           28  16845.0  \n",
            "201    5300.0       19           25  19045.0  \n",
            "202    5500.0       18           23  21485.0  \n",
            "203    4800.0       26           27  22470.0  \n",
            "204    5400.0       19           25  22625.0  \n",
            "\n",
            "[205 rows x 26 columns]\n"
          ]
        }
      ]
    },
    {
      "cell_type": "code",
      "source": [
        "print(\"El precio minimo de los autos registrados es: \",autos.price.min())"
      ],
      "metadata": {
        "colab": {
          "base_uri": "https://localhost:8080/"
        },
        "id": "JtLpyJNrPnHN",
        "outputId": "b087cf0d-9392-435b-f9fd-be46becabb50"
      },
      "execution_count": 4,
      "outputs": [
        {
          "output_type": "stream",
          "name": "stdout",
          "text": [
            "El precio minimo de los autos registrados es:  5118.0\n"
          ]
        }
      ]
    },
    {
      "cell_type": "code",
      "source": [
        "print(\"El precio máximo de los autos registrados es: \",autos.price.max())"
      ],
      "metadata": {
        "colab": {
          "base_uri": "https://localhost:8080/"
        },
        "id": "bBxioJgvPnDu",
        "outputId": "f588f5fe-d082-4b19-b047-84ccfd54afac"
      },
      "execution_count": 5,
      "outputs": [
        {
          "output_type": "stream",
          "name": "stdout",
          "text": [
            "El precio máximo de los autos registrados es:  45400.0\n"
          ]
        }
      ]
    },
    {
      "cell_type": "code",
      "source": [
        "m=mode(autos.price)\n",
        "print(\"la moda de los precios de los autos registrados es: \",m)"
      ],
      "metadata": {
        "colab": {
          "base_uri": "https://localhost:8080/"
        },
        "id": "uEW5zb1hPnBI",
        "outputId": "7b0f9980-d38e-43a5-d082-d013e3171dc4"
      },
      "execution_count": 17,
      "outputs": [
        {
          "output_type": "stream",
          "name": "stdout",
          "text": [
            "la moda de los precios de los autos registrados es:  16500.0\n"
          ]
        }
      ]
    },
    {
      "cell_type": "code",
      "source": [
        "print(\"la media de los precios de los autos registrados es: \",autos.price.mean())"
      ],
      "metadata": {
        "colab": {
          "base_uri": "https://localhost:8080/"
        },
        "id": "xgGXz6nFPm-Z",
        "outputId": "168bb5f4-0233-4bf5-eb37-804003b52d9a"
      },
      "execution_count": 18,
      "outputs": [
        {
          "output_type": "stream",
          "name": "stdout",
          "text": [
            "la media de los precios de los autos registrados es:  13207.129353233831\n"
          ]
        }
      ]
    },
    {
      "cell_type": "code",
      "source": [
        "l=median(autos.price)\n",
        "print(\"la mediana de los precios de los autos registrados es: \",l)"
      ],
      "metadata": {
        "colab": {
          "base_uri": "https://localhost:8080/"
        },
        "id": "J6b3uHlIPm7q",
        "outputId": "b0ef271e-a93f-47d6-d74e-f9474a51cfbb"
      },
      "execution_count": 36,
      "outputs": [
        {
          "output_type": "stream",
          "name": "stdout",
          "text": [
            "la mediana de los precios de los autos registrados es:  10595.0\n"
          ]
        }
      ]
    },
    {
      "cell_type": "code",
      "source": [
        "autos = autos.fillna(autos.mean())\n",
        "d=stdev(autos.price)\n",
        "print(\"La esviacion estandar de los precios es: \",d)\n",
        "print(\"\\n\")"
      ],
      "metadata": {
        "colab": {
          "base_uri": "https://localhost:8080/"
        },
        "id": "o0aI37R2Pm5H",
        "outputId": "e7eff867-c59e-4bc9-d472-1afab01f8cd0"
      },
      "execution_count": 39,
      "outputs": [
        {
          "output_type": "stream",
          "name": "stdout",
          "text": [
            "La esviacion estandar de los precios es:  7898.9579129531985\n",
            "\n",
            "\n"
          ]
        },
        {
          "output_type": "stream",
          "name": "stderr",
          "text": [
            "<ipython-input-39-6d6b3b08ddac>:1: FutureWarning: The default value of numeric_only in DataFrame.mean is deprecated. In a future version, it will default to False. In addition, specifying 'numeric_only=None' is deprecated. Select only valid columns or specify the value of numeric_only to silence this warning.\n",
            "  autos = autos.fillna(autos.mean())\n"
          ]
        }
      ]
    },
    {
      "cell_type": "code",
      "source": [
        "autos.describe()"
      ],
      "metadata": {
        "colab": {
          "base_uri": "https://localhost:8080/",
          "height": 337
        },
        "id": "2_4qFg9jPm2p",
        "outputId": "ef4cd623-5e04-4c7a-dde5-b84c55fee97e"
      },
      "execution_count": 25,
      "outputs": [
        {
          "output_type": "execute_result",
          "data": {
            "text/plain": [
              "        symboling  normalized-losses  wheel-base     length       width  \\\n",
              "count  203.000000         203.000000  203.000000  203.00000  203.000000   \n",
              "mean     0.837438         121.871921   98.781281  174.11330   65.915271   \n",
              "std      1.250021          31.784599    6.040994   12.33909    2.150274   \n",
              "min     -2.000000          65.000000   86.600000  141.10000   60.300000   \n",
              "25%      0.000000         101.000000   94.500000  166.55000   64.100000   \n",
              "50%      1.000000         122.000000   97.000000  173.20000   65.500000   \n",
              "75%      2.000000         137.000000  102.400000  183.30000   66.900000   \n",
              "max      3.000000         256.000000  120.900000  208.10000   72.300000   \n",
              "\n",
              "           height  curb-weight  engine-size        bore      stroke  \\\n",
              "count  203.000000   203.000000   203.000000  203.000000  203.000000   \n",
              "mean    53.731527  2557.916256   127.073892    3.330931    3.254097   \n",
              "std      2.442526   522.557049    41.797123    0.271327    0.314858   \n",
              "min     47.800000  1488.000000    61.000000    2.540000    2.070000   \n",
              "25%     52.000000  2145.000000    97.000000    3.150000    3.110000   \n",
              "50%     54.100000  2414.000000   120.000000    3.310000    3.290000   \n",
              "75%     55.500000  2943.500000   143.000000    3.585000    3.410000   \n",
              "max     59.800000  4066.000000   326.000000    3.940000    4.170000   \n",
              "\n",
              "       compression-ratio  horsepower     peak-rpm    city-mpg  highway-mpg  \\\n",
              "count         203.000000  203.000000   203.000000  203.000000   203.000000   \n",
              "mean           10.093202  104.465578  5125.865709   25.172414    30.699507   \n",
              "std             3.888216   39.612362   477.438883    6.529812     6.874645   \n",
              "min             7.000000   48.000000  4150.000000   13.000000    16.000000   \n",
              "25%             8.600000   70.000000  4800.000000   19.000000    25.000000   \n",
              "50%             9.000000   95.000000  5200.000000   24.000000    30.000000   \n",
              "75%             9.400000  116.000000  5500.000000   30.000000    34.000000   \n",
              "max            23.000000  288.000000  6600.000000   49.000000    54.000000   \n",
              "\n",
              "              price  \n",
              "count    203.000000  \n",
              "mean   13241.913879  \n",
              "std     7898.957913  \n",
              "min     5118.000000  \n",
              "25%     7781.500000  \n",
              "50%    10595.000000  \n",
              "75%    16500.000000  \n",
              "max    45400.000000  "
            ],
            "text/html": [
              "\n",
              "  <div id=\"df-f29c1424-7923-4cbc-b310-026cf64a1c2b\" class=\"colab-df-container\">\n",
              "    <div>\n",
              "<style scoped>\n",
              "    .dataframe tbody tr th:only-of-type {\n",
              "        vertical-align: middle;\n",
              "    }\n",
              "\n",
              "    .dataframe tbody tr th {\n",
              "        vertical-align: top;\n",
              "    }\n",
              "\n",
              "    .dataframe thead th {\n",
              "        text-align: right;\n",
              "    }\n",
              "</style>\n",
              "<table border=\"1\" class=\"dataframe\">\n",
              "  <thead>\n",
              "    <tr style=\"text-align: right;\">\n",
              "      <th></th>\n",
              "      <th>symboling</th>\n",
              "      <th>normalized-losses</th>\n",
              "      <th>wheel-base</th>\n",
              "      <th>length</th>\n",
              "      <th>width</th>\n",
              "      <th>height</th>\n",
              "      <th>curb-weight</th>\n",
              "      <th>engine-size</th>\n",
              "      <th>bore</th>\n",
              "      <th>stroke</th>\n",
              "      <th>compression-ratio</th>\n",
              "      <th>horsepower</th>\n",
              "      <th>peak-rpm</th>\n",
              "      <th>city-mpg</th>\n",
              "      <th>highway-mpg</th>\n",
              "      <th>price</th>\n",
              "    </tr>\n",
              "  </thead>\n",
              "  <tbody>\n",
              "    <tr>\n",
              "      <th>count</th>\n",
              "      <td>203.000000</td>\n",
              "      <td>203.000000</td>\n",
              "      <td>203.000000</td>\n",
              "      <td>203.00000</td>\n",
              "      <td>203.000000</td>\n",
              "      <td>203.000000</td>\n",
              "      <td>203.000000</td>\n",
              "      <td>203.000000</td>\n",
              "      <td>203.000000</td>\n",
              "      <td>203.000000</td>\n",
              "      <td>203.000000</td>\n",
              "      <td>203.000000</td>\n",
              "      <td>203.000000</td>\n",
              "      <td>203.000000</td>\n",
              "      <td>203.000000</td>\n",
              "      <td>203.000000</td>\n",
              "    </tr>\n",
              "    <tr>\n",
              "      <th>mean</th>\n",
              "      <td>0.837438</td>\n",
              "      <td>121.871921</td>\n",
              "      <td>98.781281</td>\n",
              "      <td>174.11330</td>\n",
              "      <td>65.915271</td>\n",
              "      <td>53.731527</td>\n",
              "      <td>2557.916256</td>\n",
              "      <td>127.073892</td>\n",
              "      <td>3.330931</td>\n",
              "      <td>3.254097</td>\n",
              "      <td>10.093202</td>\n",
              "      <td>104.465578</td>\n",
              "      <td>5125.865709</td>\n",
              "      <td>25.172414</td>\n",
              "      <td>30.699507</td>\n",
              "      <td>13241.913879</td>\n",
              "    </tr>\n",
              "    <tr>\n",
              "      <th>std</th>\n",
              "      <td>1.250021</td>\n",
              "      <td>31.784599</td>\n",
              "      <td>6.040994</td>\n",
              "      <td>12.33909</td>\n",
              "      <td>2.150274</td>\n",
              "      <td>2.442526</td>\n",
              "      <td>522.557049</td>\n",
              "      <td>41.797123</td>\n",
              "      <td>0.271327</td>\n",
              "      <td>0.314858</td>\n",
              "      <td>3.888216</td>\n",
              "      <td>39.612362</td>\n",
              "      <td>477.438883</td>\n",
              "      <td>6.529812</td>\n",
              "      <td>6.874645</td>\n",
              "      <td>7898.957913</td>\n",
              "    </tr>\n",
              "    <tr>\n",
              "      <th>min</th>\n",
              "      <td>-2.000000</td>\n",
              "      <td>65.000000</td>\n",
              "      <td>86.600000</td>\n",
              "      <td>141.10000</td>\n",
              "      <td>60.300000</td>\n",
              "      <td>47.800000</td>\n",
              "      <td>1488.000000</td>\n",
              "      <td>61.000000</td>\n",
              "      <td>2.540000</td>\n",
              "      <td>2.070000</td>\n",
              "      <td>7.000000</td>\n",
              "      <td>48.000000</td>\n",
              "      <td>4150.000000</td>\n",
              "      <td>13.000000</td>\n",
              "      <td>16.000000</td>\n",
              "      <td>5118.000000</td>\n",
              "    </tr>\n",
              "    <tr>\n",
              "      <th>25%</th>\n",
              "      <td>0.000000</td>\n",
              "      <td>101.000000</td>\n",
              "      <td>94.500000</td>\n",
              "      <td>166.55000</td>\n",
              "      <td>64.100000</td>\n",
              "      <td>52.000000</td>\n",
              "      <td>2145.000000</td>\n",
              "      <td>97.000000</td>\n",
              "      <td>3.150000</td>\n",
              "      <td>3.110000</td>\n",
              "      <td>8.600000</td>\n",
              "      <td>70.000000</td>\n",
              "      <td>4800.000000</td>\n",
              "      <td>19.000000</td>\n",
              "      <td>25.000000</td>\n",
              "      <td>7781.500000</td>\n",
              "    </tr>\n",
              "    <tr>\n",
              "      <th>50%</th>\n",
              "      <td>1.000000</td>\n",
              "      <td>122.000000</td>\n",
              "      <td>97.000000</td>\n",
              "      <td>173.20000</td>\n",
              "      <td>65.500000</td>\n",
              "      <td>54.100000</td>\n",
              "      <td>2414.000000</td>\n",
              "      <td>120.000000</td>\n",
              "      <td>3.310000</td>\n",
              "      <td>3.290000</td>\n",
              "      <td>9.000000</td>\n",
              "      <td>95.000000</td>\n",
              "      <td>5200.000000</td>\n",
              "      <td>24.000000</td>\n",
              "      <td>30.000000</td>\n",
              "      <td>10595.000000</td>\n",
              "    </tr>\n",
              "    <tr>\n",
              "      <th>75%</th>\n",
              "      <td>2.000000</td>\n",
              "      <td>137.000000</td>\n",
              "      <td>102.400000</td>\n",
              "      <td>183.30000</td>\n",
              "      <td>66.900000</td>\n",
              "      <td>55.500000</td>\n",
              "      <td>2943.500000</td>\n",
              "      <td>143.000000</td>\n",
              "      <td>3.585000</td>\n",
              "      <td>3.410000</td>\n",
              "      <td>9.400000</td>\n",
              "      <td>116.000000</td>\n",
              "      <td>5500.000000</td>\n",
              "      <td>30.000000</td>\n",
              "      <td>34.000000</td>\n",
              "      <td>16500.000000</td>\n",
              "    </tr>\n",
              "    <tr>\n",
              "      <th>max</th>\n",
              "      <td>3.000000</td>\n",
              "      <td>256.000000</td>\n",
              "      <td>120.900000</td>\n",
              "      <td>208.10000</td>\n",
              "      <td>72.300000</td>\n",
              "      <td>59.800000</td>\n",
              "      <td>4066.000000</td>\n",
              "      <td>326.000000</td>\n",
              "      <td>3.940000</td>\n",
              "      <td>4.170000</td>\n",
              "      <td>23.000000</td>\n",
              "      <td>288.000000</td>\n",
              "      <td>6600.000000</td>\n",
              "      <td>49.000000</td>\n",
              "      <td>54.000000</td>\n",
              "      <td>45400.000000</td>\n",
              "    </tr>\n",
              "  </tbody>\n",
              "</table>\n",
              "</div>\n",
              "    <div class=\"colab-df-buttons\">\n",
              "\n",
              "  <div class=\"colab-df-container\">\n",
              "    <button class=\"colab-df-convert\" onclick=\"convertToInteractive('df-f29c1424-7923-4cbc-b310-026cf64a1c2b')\"\n",
              "            title=\"Convert this dataframe to an interactive table.\"\n",
              "            style=\"display:none;\">\n",
              "\n",
              "  <svg xmlns=\"http://www.w3.org/2000/svg\" height=\"24px\" viewBox=\"0 -960 960 960\">\n",
              "    <path d=\"M120-120v-720h720v720H120Zm60-500h600v-160H180v160Zm220 220h160v-160H400v160Zm0 220h160v-160H400v160ZM180-400h160v-160H180v160Zm440 0h160v-160H620v160ZM180-180h160v-160H180v160Zm440 0h160v-160H620v160Z\"/>\n",
              "  </svg>\n",
              "    </button>\n",
              "\n",
              "  <style>\n",
              "    .colab-df-container {\n",
              "      display:flex;\n",
              "      gap: 12px;\n",
              "    }\n",
              "\n",
              "    .colab-df-convert {\n",
              "      background-color: #E8F0FE;\n",
              "      border: none;\n",
              "      border-radius: 50%;\n",
              "      cursor: pointer;\n",
              "      display: none;\n",
              "      fill: #1967D2;\n",
              "      height: 32px;\n",
              "      padding: 0 0 0 0;\n",
              "      width: 32px;\n",
              "    }\n",
              "\n",
              "    .colab-df-convert:hover {\n",
              "      background-color: #E2EBFA;\n",
              "      box-shadow: 0px 1px 2px rgba(60, 64, 67, 0.3), 0px 1px 3px 1px rgba(60, 64, 67, 0.15);\n",
              "      fill: #174EA6;\n",
              "    }\n",
              "\n",
              "    .colab-df-buttons div {\n",
              "      margin-bottom: 4px;\n",
              "    }\n",
              "\n",
              "    [theme=dark] .colab-df-convert {\n",
              "      background-color: #3B4455;\n",
              "      fill: #D2E3FC;\n",
              "    }\n",
              "\n",
              "    [theme=dark] .colab-df-convert:hover {\n",
              "      background-color: #434B5C;\n",
              "      box-shadow: 0px 1px 3px 1px rgba(0, 0, 0, 0.15);\n",
              "      filter: drop-shadow(0px 1px 2px rgba(0, 0, 0, 0.3));\n",
              "      fill: #FFFFFF;\n",
              "    }\n",
              "  </style>\n",
              "\n",
              "    <script>\n",
              "      const buttonEl =\n",
              "        document.querySelector('#df-f29c1424-7923-4cbc-b310-026cf64a1c2b button.colab-df-convert');\n",
              "      buttonEl.style.display =\n",
              "        google.colab.kernel.accessAllowed ? 'block' : 'none';\n",
              "\n",
              "      async function convertToInteractive(key) {\n",
              "        const element = document.querySelector('#df-f29c1424-7923-4cbc-b310-026cf64a1c2b');\n",
              "        const dataTable =\n",
              "          await google.colab.kernel.invokeFunction('convertToInteractive',\n",
              "                                                    [key], {});\n",
              "        if (!dataTable) return;\n",
              "\n",
              "        const docLinkHtml = 'Like what you see? Visit the ' +\n",
              "          '<a target=\"_blank\" href=https://colab.research.google.com/notebooks/data_table.ipynb>data table notebook</a>'\n",
              "          + ' to learn more about interactive tables.';\n",
              "        element.innerHTML = '';\n",
              "        dataTable['output_type'] = 'display_data';\n",
              "        await google.colab.output.renderOutput(dataTable, element);\n",
              "        const docLink = document.createElement('div');\n",
              "        docLink.innerHTML = docLinkHtml;\n",
              "        element.appendChild(docLink);\n",
              "      }\n",
              "    </script>\n",
              "  </div>\n",
              "\n",
              "\n",
              "<div id=\"df-c7a701dc-5863-494b-bcd7-e42cbd33abe7\">\n",
              "  <button class=\"colab-df-quickchart\" onclick=\"quickchart('df-c7a701dc-5863-494b-bcd7-e42cbd33abe7')\"\n",
              "            title=\"Suggest charts\"\n",
              "            style=\"display:none;\">\n",
              "\n",
              "<svg xmlns=\"http://www.w3.org/2000/svg\" height=\"24px\"viewBox=\"0 0 24 24\"\n",
              "     width=\"24px\">\n",
              "    <g>\n",
              "        <path d=\"M19 3H5c-1.1 0-2 .9-2 2v14c0 1.1.9 2 2 2h14c1.1 0 2-.9 2-2V5c0-1.1-.9-2-2-2zM9 17H7v-7h2v7zm4 0h-2V7h2v10zm4 0h-2v-4h2v4z\"/>\n",
              "    </g>\n",
              "</svg>\n",
              "  </button>\n",
              "\n",
              "<style>\n",
              "  .colab-df-quickchart {\n",
              "      --bg-color: #E8F0FE;\n",
              "      --fill-color: #1967D2;\n",
              "      --hover-bg-color: #E2EBFA;\n",
              "      --hover-fill-color: #174EA6;\n",
              "      --disabled-fill-color: #AAA;\n",
              "      --disabled-bg-color: #DDD;\n",
              "  }\n",
              "\n",
              "  [theme=dark] .colab-df-quickchart {\n",
              "      --bg-color: #3B4455;\n",
              "      --fill-color: #D2E3FC;\n",
              "      --hover-bg-color: #434B5C;\n",
              "      --hover-fill-color: #FFFFFF;\n",
              "      --disabled-bg-color: #3B4455;\n",
              "      --disabled-fill-color: #666;\n",
              "  }\n",
              "\n",
              "  .colab-df-quickchart {\n",
              "    background-color: var(--bg-color);\n",
              "    border: none;\n",
              "    border-radius: 50%;\n",
              "    cursor: pointer;\n",
              "    display: none;\n",
              "    fill: var(--fill-color);\n",
              "    height: 32px;\n",
              "    padding: 0;\n",
              "    width: 32px;\n",
              "  }\n",
              "\n",
              "  .colab-df-quickchart:hover {\n",
              "    background-color: var(--hover-bg-color);\n",
              "    box-shadow: 0 1px 2px rgba(60, 64, 67, 0.3), 0 1px 3px 1px rgba(60, 64, 67, 0.15);\n",
              "    fill: var(--button-hover-fill-color);\n",
              "  }\n",
              "\n",
              "  .colab-df-quickchart-complete:disabled,\n",
              "  .colab-df-quickchart-complete:disabled:hover {\n",
              "    background-color: var(--disabled-bg-color);\n",
              "    fill: var(--disabled-fill-color);\n",
              "    box-shadow: none;\n",
              "  }\n",
              "\n",
              "  .colab-df-spinner {\n",
              "    border: 2px solid var(--fill-color);\n",
              "    border-color: transparent;\n",
              "    border-bottom-color: var(--fill-color);\n",
              "    animation:\n",
              "      spin 1s steps(1) infinite;\n",
              "  }\n",
              "\n",
              "  @keyframes spin {\n",
              "    0% {\n",
              "      border-color: transparent;\n",
              "      border-bottom-color: var(--fill-color);\n",
              "      border-left-color: var(--fill-color);\n",
              "    }\n",
              "    20% {\n",
              "      border-color: transparent;\n",
              "      border-left-color: var(--fill-color);\n",
              "      border-top-color: var(--fill-color);\n",
              "    }\n",
              "    30% {\n",
              "      border-color: transparent;\n",
              "      border-left-color: var(--fill-color);\n",
              "      border-top-color: var(--fill-color);\n",
              "      border-right-color: var(--fill-color);\n",
              "    }\n",
              "    40% {\n",
              "      border-color: transparent;\n",
              "      border-right-color: var(--fill-color);\n",
              "      border-top-color: var(--fill-color);\n",
              "    }\n",
              "    60% {\n",
              "      border-color: transparent;\n",
              "      border-right-color: var(--fill-color);\n",
              "    }\n",
              "    80% {\n",
              "      border-color: transparent;\n",
              "      border-right-color: var(--fill-color);\n",
              "      border-bottom-color: var(--fill-color);\n",
              "    }\n",
              "    90% {\n",
              "      border-color: transparent;\n",
              "      border-bottom-color: var(--fill-color);\n",
              "    }\n",
              "  }\n",
              "</style>\n",
              "\n",
              "  <script>\n",
              "    async function quickchart(key) {\n",
              "      const quickchartButtonEl =\n",
              "        document.querySelector('#' + key + ' button');\n",
              "      quickchartButtonEl.disabled = true;  // To prevent multiple clicks.\n",
              "      quickchartButtonEl.classList.add('colab-df-spinner');\n",
              "      try {\n",
              "        const charts = await google.colab.kernel.invokeFunction(\n",
              "            'suggestCharts', [key], {});\n",
              "      } catch (error) {\n",
              "        console.error('Error during call to suggestCharts:', error);\n",
              "      }\n",
              "      quickchartButtonEl.classList.remove('colab-df-spinner');\n",
              "      quickchartButtonEl.classList.add('colab-df-quickchart-complete');\n",
              "    }\n",
              "    (() => {\n",
              "      let quickchartButtonEl =\n",
              "        document.querySelector('#df-c7a701dc-5863-494b-bcd7-e42cbd33abe7 button');\n",
              "      quickchartButtonEl.style.display =\n",
              "        google.colab.kernel.accessAllowed ? 'block' : 'none';\n",
              "    })();\n",
              "  </script>\n",
              "</div>\n",
              "\n",
              "    </div>\n",
              "  </div>\n"
            ],
            "application/vnd.google.colaboratory.intrinsic+json": {
              "type": "dataframe",
              "summary": "{\n  \"name\": \"autos\",\n  \"rows\": 8,\n  \"fields\": [\n    {\n      \"column\": \"symboling\",\n      \"properties\": {\n        \"dtype\": \"number\",\n        \"std\": 71.47883618656192,\n        \"min\": -2.0,\n        \"max\": 203.0,\n        \"num_unique_values\": 8,\n        \"samples\": [\n          0.8374384236453202,\n          1.0,\n          203.0\n        ],\n        \"semantic_type\": \"\",\n        \"description\": \"\"\n      }\n    },\n    {\n      \"column\": \"normalized-losses\",\n      \"properties\": {\n        \"dtype\": \"number\",\n        \"std\": 71.80891721857193,\n        \"min\": 31.78459913748152,\n        \"max\": 256.0,\n        \"num_unique_values\": 8,\n        \"samples\": [\n          121.87192118226601,\n          122.0,\n          203.0\n        ],\n        \"semantic_type\": \"\",\n        \"description\": \"\"\n      }\n    },\n    {\n      \"column\": \"wheel-base\",\n      \"properties\": {\n        \"dtype\": \"number\",\n        \"std\": 53.5717526780882,\n        \"min\": 6.040993978845771,\n        \"max\": 203.0,\n        \"num_unique_values\": 8,\n        \"samples\": [\n          98.78128078817733,\n          97.0,\n          203.0\n        ],\n        \"semantic_type\": \"\",\n        \"description\": \"\"\n      }\n    },\n    {\n      \"column\": \"length\",\n      \"properties\": {\n        \"dtype\": \"number\",\n        \"std\": 62.3823828309445,\n        \"min\": 12.339089879436875,\n        \"max\": 208.1,\n        \"num_unique_values\": 8,\n        \"samples\": [\n          174.11330049261085,\n          173.2,\n          203.0\n        ],\n        \"semantic_type\": \"\",\n        \"description\": \"\"\n      }\n    },\n    {\n      \"column\": \"width\",\n      \"properties\": {\n        \"dtype\": \"number\",\n        \"std\": 56.40625790227513,\n        \"min\": 2.1502735954155234,\n        \"max\": 203.0,\n        \"num_unique_values\": 8,\n        \"samples\": [\n          65.91527093596059,\n          65.5,\n          203.0\n        ],\n        \"semantic_type\": \"\",\n        \"description\": \"\"\n      }\n    },\n    {\n      \"column\": \"height\",\n      \"properties\": {\n        \"dtype\": \"number\",\n        \"std\": 58.28083546427944,\n        \"min\": 2.4425257040318664,\n        \"max\": 203.0,\n        \"num_unique_values\": 8,\n        \"samples\": [\n          53.73152709359606,\n          54.1,\n          203.0\n        ],\n        \"semantic_type\": \"\",\n        \"description\": \"\"\n      }\n    },\n    {\n      \"column\": \"curb-weight\",\n      \"properties\": {\n        \"dtype\": \"number\",\n        \"std\": 1271.7806831425416,\n        \"min\": 203.0,\n        \"max\": 4066.0,\n        \"num_unique_values\": 8,\n        \"samples\": [\n          2557.9162561576354,\n          2414.0,\n          203.0\n        ],\n        \"semantic_type\": \"\",\n        \"description\": \"\"\n      }\n    },\n    {\n      \"column\": \"engine-size\",\n      \"properties\": {\n        \"dtype\": \"number\",\n        \"std\": 90.13856798404672,\n        \"min\": 41.79712267002535,\n        \"max\": 326.0,\n        \"num_unique_values\": 8,\n        \"samples\": [\n          127.07389162561576,\n          120.0,\n          203.0\n        ],\n        \"semantic_type\": \"\",\n        \"description\": \"\"\n      }\n    },\n    {\n      \"column\": \"bore\",\n      \"properties\": {\n        \"dtype\": \"number\",\n        \"std\": 70.76384576701619,\n        \"min\": 0.27132717702756703,\n        \"max\": 203.0,\n        \"num_unique_values\": 8,\n        \"samples\": [\n          3.3309310589907604,\n          3.31,\n          203.0\n        ],\n        \"semantic_type\": \"\",\n        \"description\": \"\"\n      }\n    },\n    {\n      \"column\": \"stroke\",\n      \"properties\": {\n        \"dtype\": \"number\",\n        \"std\": 70.790017940746,\n        \"min\": 0.3148582125360431,\n        \"max\": 203.0,\n        \"num_unique_values\": 8,\n        \"samples\": [\n          3.254097002671372,\n          3.29,\n          203.0\n        ],\n        \"semantic_type\": \"\",\n        \"description\": \"\"\n      }\n    },\n    {\n      \"column\": \"compression-ratio\",\n      \"properties\": {\n        \"dtype\": \"number\",\n        \"std\": 68.41478932584816,\n        \"min\": 3.8882157700991318,\n        \"max\": 203.0,\n        \"num_unique_values\": 8,\n        \"samples\": [\n          10.09320197044335,\n          9.0,\n          203.0\n        ],\n        \"semantic_type\": \"\",\n        \"description\": \"\"\n      }\n    },\n    {\n      \"column\": \"horsepower\",\n      \"properties\": {\n        \"dtype\": \"number\",\n        \"std\": 84.63316798325089,\n        \"min\": 39.61236233100616,\n        \"max\": 288.0,\n        \"num_unique_values\": 8,\n        \"samples\": [\n          104.46557790773859,\n          95.0,\n          203.0\n        ],\n        \"semantic_type\": \"\",\n        \"description\": \"\"\n      }\n    },\n    {\n      \"column\": \"peak-rpm\",\n      \"properties\": {\n        \"dtype\": \"number\",\n        \"std\": 2366.59258196722,\n        \"min\": 203.0,\n        \"max\": 6600.0,\n        \"num_unique_values\": 8,\n        \"samples\": [\n          5125.865708947075,\n          5200.0,\n          203.0\n        ],\n        \"semantic_type\": \"\",\n        \"description\": \"\"\n      }\n    },\n    {\n      \"column\": \"city-mpg\",\n      \"properties\": {\n        \"dtype\": \"number\",\n        \"std\": 64.59469449808594,\n        \"min\": 6.529811877432634,\n        \"max\": 203.0,\n        \"num_unique_values\": 8,\n        \"samples\": [\n          25.17241379310345,\n          24.0,\n          203.0\n        ],\n        \"semantic_type\": \"\",\n        \"description\": \"\"\n      }\n    },\n    {\n      \"column\": \"highway-mpg\",\n      \"properties\": {\n        \"dtype\": \"number\",\n        \"std\": 63.35194506012481,\n        \"min\": 6.8746448875844255,\n        \"max\": 203.0,\n        \"num_unique_values\": 8,\n        \"samples\": [\n          30.699507389162562,\n          30.0,\n          203.0\n        ],\n        \"semantic_type\": \"\",\n        \"description\": \"\"\n      }\n    },\n    {\n      \"column\": \"price\",\n      \"properties\": {\n        \"dtype\": \"number\",\n        \"std\": 13867.009760784402,\n        \"min\": 203.0,\n        \"max\": 45400.0,\n        \"num_unique_values\": 8,\n        \"samples\": [\n          13241.913878881454,\n          10595.0,\n          203.0\n        ],\n        \"semantic_type\": \"\",\n        \"description\": \"\"\n      }\n    }\n  ]\n}"
            }
          },
          "metadata": {},
          "execution_count": 25
        }
      ]
    },
    {
      "cell_type": "code",
      "source": [
        "n=len(autos.price)\n",
        "k=int(1+math.log2(n))\n",
        "stur=pd.cut(autos.price,bins=k).value_counts().reset_index()\n",
        "stur.columns=(\"precios\",\"autos\")\n",
        "stur"
      ],
      "metadata": {
        "colab": {
          "base_uri": "https://localhost:8080/",
          "height": 300
        },
        "id": "tT2TbD-YPmwy",
        "outputId": "cc7fa3a3-1bf6-4a60-c4c5-1ef0e36dd41f"
      },
      "execution_count": 35,
      "outputs": [
        {
          "output_type": "execute_result",
          "data": {
            "text/plain": [
              "                precios  autos\n",
              "0  (5077.718, 10153.25]     97\n",
              "1   (10153.25, 15188.5]     45\n",
              "2   (15188.5, 20223.75]     36\n",
              "3   (20223.75, 25259.0]      8\n",
              "4   (30294.25, 35329.5]      7\n",
              "5   (35329.5, 40364.75]      4\n",
              "6   (25259.0, 30294.25]      3\n",
              "7   (40364.75, 45400.0]      3"
            ],
            "text/html": [
              "\n",
              "  <div id=\"df-54392afd-297d-4408-94a1-63e4ec284cb0\" class=\"colab-df-container\">\n",
              "    <div>\n",
              "<style scoped>\n",
              "    .dataframe tbody tr th:only-of-type {\n",
              "        vertical-align: middle;\n",
              "    }\n",
              "\n",
              "    .dataframe tbody tr th {\n",
              "        vertical-align: top;\n",
              "    }\n",
              "\n",
              "    .dataframe thead th {\n",
              "        text-align: right;\n",
              "    }\n",
              "</style>\n",
              "<table border=\"1\" class=\"dataframe\">\n",
              "  <thead>\n",
              "    <tr style=\"text-align: right;\">\n",
              "      <th></th>\n",
              "      <th>precios</th>\n",
              "      <th>autos</th>\n",
              "    </tr>\n",
              "  </thead>\n",
              "  <tbody>\n",
              "    <tr>\n",
              "      <th>0</th>\n",
              "      <td>(5077.718, 10153.25]</td>\n",
              "      <td>97</td>\n",
              "    </tr>\n",
              "    <tr>\n",
              "      <th>1</th>\n",
              "      <td>(10153.25, 15188.5]</td>\n",
              "      <td>45</td>\n",
              "    </tr>\n",
              "    <tr>\n",
              "      <th>2</th>\n",
              "      <td>(15188.5, 20223.75]</td>\n",
              "      <td>36</td>\n",
              "    </tr>\n",
              "    <tr>\n",
              "      <th>3</th>\n",
              "      <td>(20223.75, 25259.0]</td>\n",
              "      <td>8</td>\n",
              "    </tr>\n",
              "    <tr>\n",
              "      <th>4</th>\n",
              "      <td>(30294.25, 35329.5]</td>\n",
              "      <td>7</td>\n",
              "    </tr>\n",
              "    <tr>\n",
              "      <th>5</th>\n",
              "      <td>(35329.5, 40364.75]</td>\n",
              "      <td>4</td>\n",
              "    </tr>\n",
              "    <tr>\n",
              "      <th>6</th>\n",
              "      <td>(25259.0, 30294.25]</td>\n",
              "      <td>3</td>\n",
              "    </tr>\n",
              "    <tr>\n",
              "      <th>7</th>\n",
              "      <td>(40364.75, 45400.0]</td>\n",
              "      <td>3</td>\n",
              "    </tr>\n",
              "  </tbody>\n",
              "</table>\n",
              "</div>\n",
              "    <div class=\"colab-df-buttons\">\n",
              "\n",
              "  <div class=\"colab-df-container\">\n",
              "    <button class=\"colab-df-convert\" onclick=\"convertToInteractive('df-54392afd-297d-4408-94a1-63e4ec284cb0')\"\n",
              "            title=\"Convert this dataframe to an interactive table.\"\n",
              "            style=\"display:none;\">\n",
              "\n",
              "  <svg xmlns=\"http://www.w3.org/2000/svg\" height=\"24px\" viewBox=\"0 -960 960 960\">\n",
              "    <path d=\"M120-120v-720h720v720H120Zm60-500h600v-160H180v160Zm220 220h160v-160H400v160Zm0 220h160v-160H400v160ZM180-400h160v-160H180v160Zm440 0h160v-160H620v160ZM180-180h160v-160H180v160Zm440 0h160v-160H620v160Z\"/>\n",
              "  </svg>\n",
              "    </button>\n",
              "\n",
              "  <style>\n",
              "    .colab-df-container {\n",
              "      display:flex;\n",
              "      gap: 12px;\n",
              "    }\n",
              "\n",
              "    .colab-df-convert {\n",
              "      background-color: #E8F0FE;\n",
              "      border: none;\n",
              "      border-radius: 50%;\n",
              "      cursor: pointer;\n",
              "      display: none;\n",
              "      fill: #1967D2;\n",
              "      height: 32px;\n",
              "      padding: 0 0 0 0;\n",
              "      width: 32px;\n",
              "    }\n",
              "\n",
              "    .colab-df-convert:hover {\n",
              "      background-color: #E2EBFA;\n",
              "      box-shadow: 0px 1px 2px rgba(60, 64, 67, 0.3), 0px 1px 3px 1px rgba(60, 64, 67, 0.15);\n",
              "      fill: #174EA6;\n",
              "    }\n",
              "\n",
              "    .colab-df-buttons div {\n",
              "      margin-bottom: 4px;\n",
              "    }\n",
              "\n",
              "    [theme=dark] .colab-df-convert {\n",
              "      background-color: #3B4455;\n",
              "      fill: #D2E3FC;\n",
              "    }\n",
              "\n",
              "    [theme=dark] .colab-df-convert:hover {\n",
              "      background-color: #434B5C;\n",
              "      box-shadow: 0px 1px 3px 1px rgba(0, 0, 0, 0.15);\n",
              "      filter: drop-shadow(0px 1px 2px rgba(0, 0, 0, 0.3));\n",
              "      fill: #FFFFFF;\n",
              "    }\n",
              "  </style>\n",
              "\n",
              "    <script>\n",
              "      const buttonEl =\n",
              "        document.querySelector('#df-54392afd-297d-4408-94a1-63e4ec284cb0 button.colab-df-convert');\n",
              "      buttonEl.style.display =\n",
              "        google.colab.kernel.accessAllowed ? 'block' : 'none';\n",
              "\n",
              "      async function convertToInteractive(key) {\n",
              "        const element = document.querySelector('#df-54392afd-297d-4408-94a1-63e4ec284cb0');\n",
              "        const dataTable =\n",
              "          await google.colab.kernel.invokeFunction('convertToInteractive',\n",
              "                                                    [key], {});\n",
              "        if (!dataTable) return;\n",
              "\n",
              "        const docLinkHtml = 'Like what you see? Visit the ' +\n",
              "          '<a target=\"_blank\" href=https://colab.research.google.com/notebooks/data_table.ipynb>data table notebook</a>'\n",
              "          + ' to learn more about interactive tables.';\n",
              "        element.innerHTML = '';\n",
              "        dataTable['output_type'] = 'display_data';\n",
              "        await google.colab.output.renderOutput(dataTable, element);\n",
              "        const docLink = document.createElement('div');\n",
              "        docLink.innerHTML = docLinkHtml;\n",
              "        element.appendChild(docLink);\n",
              "      }\n",
              "    </script>\n",
              "  </div>\n",
              "\n",
              "\n",
              "<div id=\"df-e08897cb-6150-479d-a4b3-49297ee27389\">\n",
              "  <button class=\"colab-df-quickchart\" onclick=\"quickchart('df-e08897cb-6150-479d-a4b3-49297ee27389')\"\n",
              "            title=\"Suggest charts\"\n",
              "            style=\"display:none;\">\n",
              "\n",
              "<svg xmlns=\"http://www.w3.org/2000/svg\" height=\"24px\"viewBox=\"0 0 24 24\"\n",
              "     width=\"24px\">\n",
              "    <g>\n",
              "        <path d=\"M19 3H5c-1.1 0-2 .9-2 2v14c0 1.1.9 2 2 2h14c1.1 0 2-.9 2-2V5c0-1.1-.9-2-2-2zM9 17H7v-7h2v7zm4 0h-2V7h2v10zm4 0h-2v-4h2v4z\"/>\n",
              "    </g>\n",
              "</svg>\n",
              "  </button>\n",
              "\n",
              "<style>\n",
              "  .colab-df-quickchart {\n",
              "      --bg-color: #E8F0FE;\n",
              "      --fill-color: #1967D2;\n",
              "      --hover-bg-color: #E2EBFA;\n",
              "      --hover-fill-color: #174EA6;\n",
              "      --disabled-fill-color: #AAA;\n",
              "      --disabled-bg-color: #DDD;\n",
              "  }\n",
              "\n",
              "  [theme=dark] .colab-df-quickchart {\n",
              "      --bg-color: #3B4455;\n",
              "      --fill-color: #D2E3FC;\n",
              "      --hover-bg-color: #434B5C;\n",
              "      --hover-fill-color: #FFFFFF;\n",
              "      --disabled-bg-color: #3B4455;\n",
              "      --disabled-fill-color: #666;\n",
              "  }\n",
              "\n",
              "  .colab-df-quickchart {\n",
              "    background-color: var(--bg-color);\n",
              "    border: none;\n",
              "    border-radius: 50%;\n",
              "    cursor: pointer;\n",
              "    display: none;\n",
              "    fill: var(--fill-color);\n",
              "    height: 32px;\n",
              "    padding: 0;\n",
              "    width: 32px;\n",
              "  }\n",
              "\n",
              "  .colab-df-quickchart:hover {\n",
              "    background-color: var(--hover-bg-color);\n",
              "    box-shadow: 0 1px 2px rgba(60, 64, 67, 0.3), 0 1px 3px 1px rgba(60, 64, 67, 0.15);\n",
              "    fill: var(--button-hover-fill-color);\n",
              "  }\n",
              "\n",
              "  .colab-df-quickchart-complete:disabled,\n",
              "  .colab-df-quickchart-complete:disabled:hover {\n",
              "    background-color: var(--disabled-bg-color);\n",
              "    fill: var(--disabled-fill-color);\n",
              "    box-shadow: none;\n",
              "  }\n",
              "\n",
              "  .colab-df-spinner {\n",
              "    border: 2px solid var(--fill-color);\n",
              "    border-color: transparent;\n",
              "    border-bottom-color: var(--fill-color);\n",
              "    animation:\n",
              "      spin 1s steps(1) infinite;\n",
              "  }\n",
              "\n",
              "  @keyframes spin {\n",
              "    0% {\n",
              "      border-color: transparent;\n",
              "      border-bottom-color: var(--fill-color);\n",
              "      border-left-color: var(--fill-color);\n",
              "    }\n",
              "    20% {\n",
              "      border-color: transparent;\n",
              "      border-left-color: var(--fill-color);\n",
              "      border-top-color: var(--fill-color);\n",
              "    }\n",
              "    30% {\n",
              "      border-color: transparent;\n",
              "      border-left-color: var(--fill-color);\n",
              "      border-top-color: var(--fill-color);\n",
              "      border-right-color: var(--fill-color);\n",
              "    }\n",
              "    40% {\n",
              "      border-color: transparent;\n",
              "      border-right-color: var(--fill-color);\n",
              "      border-top-color: var(--fill-color);\n",
              "    }\n",
              "    60% {\n",
              "      border-color: transparent;\n",
              "      border-right-color: var(--fill-color);\n",
              "    }\n",
              "    80% {\n",
              "      border-color: transparent;\n",
              "      border-right-color: var(--fill-color);\n",
              "      border-bottom-color: var(--fill-color);\n",
              "    }\n",
              "    90% {\n",
              "      border-color: transparent;\n",
              "      border-bottom-color: var(--fill-color);\n",
              "    }\n",
              "  }\n",
              "</style>\n",
              "\n",
              "  <script>\n",
              "    async function quickchart(key) {\n",
              "      const quickchartButtonEl =\n",
              "        document.querySelector('#' + key + ' button');\n",
              "      quickchartButtonEl.disabled = true;  // To prevent multiple clicks.\n",
              "      quickchartButtonEl.classList.add('colab-df-spinner');\n",
              "      try {\n",
              "        const charts = await google.colab.kernel.invokeFunction(\n",
              "            'suggestCharts', [key], {});\n",
              "      } catch (error) {\n",
              "        console.error('Error during call to suggestCharts:', error);\n",
              "      }\n",
              "      quickchartButtonEl.classList.remove('colab-df-spinner');\n",
              "      quickchartButtonEl.classList.add('colab-df-quickchart-complete');\n",
              "    }\n",
              "    (() => {\n",
              "      let quickchartButtonEl =\n",
              "        document.querySelector('#df-e08897cb-6150-479d-a4b3-49297ee27389 button');\n",
              "      quickchartButtonEl.style.display =\n",
              "        google.colab.kernel.accessAllowed ? 'block' : 'none';\n",
              "    })();\n",
              "  </script>\n",
              "</div>\n",
              "\n",
              "  <div id=\"id_8a8a0793-cb0e-4ea5-a978-5ca3e5d7d7e6\">\n",
              "    <style>\n",
              "      .colab-df-generate {\n",
              "        background-color: #E8F0FE;\n",
              "        border: none;\n",
              "        border-radius: 50%;\n",
              "        cursor: pointer;\n",
              "        display: none;\n",
              "        fill: #1967D2;\n",
              "        height: 32px;\n",
              "        padding: 0 0 0 0;\n",
              "        width: 32px;\n",
              "      }\n",
              "\n",
              "      .colab-df-generate:hover {\n",
              "        background-color: #E2EBFA;\n",
              "        box-shadow: 0px 1px 2px rgba(60, 64, 67, 0.3), 0px 1px 3px 1px rgba(60, 64, 67, 0.15);\n",
              "        fill: #174EA6;\n",
              "      }\n",
              "\n",
              "      [theme=dark] .colab-df-generate {\n",
              "        background-color: #3B4455;\n",
              "        fill: #D2E3FC;\n",
              "      }\n",
              "\n",
              "      [theme=dark] .colab-df-generate:hover {\n",
              "        background-color: #434B5C;\n",
              "        box-shadow: 0px 1px 3px 1px rgba(0, 0, 0, 0.15);\n",
              "        filter: drop-shadow(0px 1px 2px rgba(0, 0, 0, 0.3));\n",
              "        fill: #FFFFFF;\n",
              "      }\n",
              "    </style>\n",
              "    <button class=\"colab-df-generate\" onclick=\"generateWithVariable('stur')\"\n",
              "            title=\"Generate code using this dataframe.\"\n",
              "            style=\"display:none;\">\n",
              "\n",
              "  <svg xmlns=\"http://www.w3.org/2000/svg\" height=\"24px\"viewBox=\"0 0 24 24\"\n",
              "       width=\"24px\">\n",
              "    <path d=\"M7,19H8.4L18.45,9,17,7.55,7,17.6ZM5,21V16.75L18.45,3.32a2,2,0,0,1,2.83,0l1.4,1.43a1.91,1.91,0,0,1,.58,1.4,1.91,1.91,0,0,1-.58,1.4L9.25,21ZM18.45,9,17,7.55Zm-12,3A5.31,5.31,0,0,0,4.9,8.1,5.31,5.31,0,0,0,1,6.5,5.31,5.31,0,0,0,4.9,4.9,5.31,5.31,0,0,0,6.5,1,5.31,5.31,0,0,0,8.1,4.9,5.31,5.31,0,0,0,12,6.5,5.46,5.46,0,0,0,6.5,12Z\"/>\n",
              "  </svg>\n",
              "    </button>\n",
              "    <script>\n",
              "      (() => {\n",
              "      const buttonEl =\n",
              "        document.querySelector('#id_8a8a0793-cb0e-4ea5-a978-5ca3e5d7d7e6 button.colab-df-generate');\n",
              "      buttonEl.style.display =\n",
              "        google.colab.kernel.accessAllowed ? 'block' : 'none';\n",
              "\n",
              "      buttonEl.onclick = () => {\n",
              "        google.colab.notebook.generateWithVariable('stur');\n",
              "      }\n",
              "      })();\n",
              "    </script>\n",
              "  </div>\n",
              "\n",
              "    </div>\n",
              "  </div>\n"
            ],
            "application/vnd.google.colaboratory.intrinsic+json": {
              "type": "dataframe",
              "variable_name": "stur",
              "summary": "{\n  \"name\": \"stur\",\n  \"rows\": 8,\n  \"fields\": [\n    {\n      \"column\": \"precios\",\n      \"properties\": {\n        \"dtype\": \"category\",\n        \"num_unique_values\": 8,\n        \"samples\": [\n          \"(10153.25, 15188.5]\",\n          \"(35329.5, 40364.75]\",\n          \"(5077.718, 10153.25]\"\n        ],\n        \"semantic_type\": \"\",\n        \"description\": \"\"\n      }\n    },\n    {\n      \"column\": \"autos\",\n      \"properties\": {\n        \"dtype\": \"number\",\n        \"std\": 33,\n        \"min\": 3,\n        \"max\": 97,\n        \"num_unique_values\": 7,\n        \"samples\": [\n          97,\n          45,\n          4\n        ],\n        \"semantic_type\": \"\",\n        \"description\": \"\"\n      }\n    }\n  ]\n}"
            }
          },
          "metadata": {},
          "execution_count": 35
        }
      ]
    },
    {
      "cell_type": "code",
      "source": [
        "plt.hist(autos.price, bins=k)\n",
        "plt.title(\"Histograma de precios de autos\")\n",
        "plt.xlabel(\"Precios de los autos\")\n",
        "plt.ylabel(\"autos\")"
      ],
      "metadata": {
        "colab": {
          "base_uri": "https://localhost:8080/",
          "height": 489
        },
        "id": "kzB-vKF_PmtV",
        "outputId": "29601f83-68a0-4e1d-b525-7bd19fe08024"
      },
      "execution_count": 37,
      "outputs": [
        {
          "output_type": "execute_result",
          "data": {
            "text/plain": [
              "Text(0, 0.5, 'autos')"
            ]
          },
          "metadata": {},
          "execution_count": 37
        },
        {
          "output_type": "display_data",
          "data": {
            "text/plain": [
              "<Figure size 640x480 with 1 Axes>"
            ],
            "image/png": "[encoded data removed]"
          },
          "metadata": {}
        }
      ]
    },
    {
      "cell_type": "markdown",
      "source": [
        "###En el histograma se observa que los autos mas vendidos se encuentran entre los 5000 y los 10000 dólares"
      ],
      "metadata": {
        "id": "MO65Y6q-eTCj"
      }
    },
    {
      "cell_type": "code",
      "source": [
        "sns.boxplot(x=autos[\"price\"], y=autos[\"body-style\"], data=autos)\n",
        "plt.title(\"Conparativa entre el modelo del auto y el precio\")\n",
        "plt.ylabel('Estilo del auto')\n",
        "plt.xlabel('Precio del auto')"
      ],
      "metadata": {
        "colab": {
          "base_uri": "https://localhost:8080/",
          "height": 489
        },
        "id": "Rsh5p50dWvXq",
        "outputId": "b98194f8-1f1d-4b9c-ba65-38faea0abdf7"
      },
      "execution_count": 65,
      "outputs": [
        {
          "output_type": "execute_result",
          "data": {
            "text/plain": [
              "Text(0.5, 0, 'Precio del auto')"
            ]
          },
          "metadata": {},
          "execution_count": 65
        },
        {
          "output_type": "display_data",
          "data": {
            "text/plain": [
              "<Figure size 640x480 with 1 Axes>"
            ],
            "image/png": "[encoded data removed]"
          },
          "metadata": {}
        }
      ]
    },
    {
      "cell_type": "markdown",
      "source": [
        "###Los puntos sin caja puede mostrar una diferencia en el precio de ciertos modelos. Esto puede requerir más investigación para comprender por qué aparecen estos valores y si son representativos de la muestra o de un error en los datos.\n"
      ],
      "metadata": {
        "id": "GwCXRkC0eSKi"
      }
    },
    {
      "cell_type": "code",
      "source": [
        "sns.boxplot(x=autos[\"price\"], y=autos[\"drive-wheels\"], data=autos)\n",
        "plt.title(\"Conparativa entre el tipo de rueda del auto y el precio\")\n",
        "plt.ylabel('Estilo de la rueda')\n",
        "plt.xlabel('Precio del auto')"
      ],
      "metadata": {
        "colab": {
          "base_uri": "https://localhost:8080/",
          "height": 489
        },
        "id": "BTp_OpoSWvSX",
        "outputId": "d7d2a53a-48a4-422e-aa17-62b249e407e8"
      },
      "execution_count": 66,
      "outputs": [
        {
          "output_type": "execute_result",
          "data": {
            "text/plain": [
              "Text(0.5, 0, 'Precio del auto')"
            ]
          },
          "metadata": {},
          "execution_count": 66
        },
        {
          "output_type": "display_data",
          "data": {
            "text/plain": [
              "<Figure size 640x480 with 1 Axes>"
            ],
            "image/png": "[encoded data removed]"
          },
          "metadata": {}
        }
      ]
    },
    {
      "cell_type": "markdown",
      "source": [
        "###El cuadro puede revelar si existe una relación clara entre el tipo de ruedas y el precio del coche. Por ejemplo, puede considerar si los vehículos con tracción en las cuatro ruedas son más caros que los vehículos con tracción delantera o trasera."
      ],
      "metadata": {
        "id": "tkAdM0LDePsN"
      }
    },
    {
      "cell_type": "code",
      "source": [
        "sns.boxplot(x=autos[\"price\"], y=autos[\"engine-location\"], data=autos)\n",
        "plt.title(\"Conparativa entre la ubicacion del motor del auto y el precio\")\n",
        "plt.ylabel('Ubicaión del motor')\n",
        "plt.xlabel('Precio del auto')"
      ],
      "metadata": {
        "colab": {
          "base_uri": "https://localhost:8080/",
          "height": 489
        },
        "id": "0slE87FjWvPO",
        "outputId": "11b518e1-0ae5-44eb-ab97-8679c0d7199d"
      },
      "execution_count": 67,
      "outputs": [
        {
          "output_type": "execute_result",
          "data": {
            "text/plain": [
              "Text(0.5, 0, 'Precio del auto')"
            ]
          },
          "metadata": {},
          "execution_count": 67
        },
        {
          "output_type": "display_data",
          "data": {
            "text/plain": [
              "<Figure size 640x480 with 1 Axes>"
            ],
            "image/png": "[encoded data removed]"
          },
          "metadata": {}
        }
      ]
    },
    {
      "cell_type": "markdown",
      "source": [
        "###El largo y ancho de la caja y la barba en la caja pueden indicar cambios de precio en cada área del motor. Las cajas más largas o los anclajes más anchos pueden mostrar una mayor variación de precios.\n"
      ],
      "metadata": {
        "id": "FlIi5D7OeQsb"
      }
    },
    {
      "cell_type": "markdown",
      "source": [
        "##Conclusiones generales\n",
        "###En el listado se logra apreciar una gran variedad de datos que se llevan registrados y que por medio de la estadística se pueden clasificar y explicar de una forma mas clara la diferencia que hay entre los datos, así como sus similitudes que solo se logran observar por medio de la estadística, de esta forma se pueden generar conclusiones como la cantidad de lo vendido con relación a las especificaciones, en este caso de vehículos, así como la relación entré los precios y los modelos de los autos."
      ],
      "metadata": {
        "id": "ADyscKDyixSR"
      }
    }
  ]
}